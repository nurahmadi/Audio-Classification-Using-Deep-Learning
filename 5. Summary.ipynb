{
 "cells": [
  {
   "cell_type": "markdown",
   "metadata": {},
   "source": [
    "# Audio Classification Using Deep Learning\n",
    "\n",
    "## 5. Summary"
   ]
  },
  {
   "cell_type": "markdown",
   "metadata": {},
   "source": [
    "### Performance comparison\n",
    "\n",
    "I have trained and evaluated the two types of models from two types of features. In total, we have four models as follows:\n",
    "* CNN model + Mel feature\n",
    "* CNN model + MFCC feature\n",
    "* LSTM model + Mel feature\n",
    "* LSTM model + MFCC feature\n",
    "\n",
    "The models and their evaluation scores on testing set have been stored on `results` directory. Now, we want to load these scores for performance benchmark purpose. These results are from models without hyperparameter optimisation. Due to limited time and compute capability, I have not been able to optimise all the models."
   ]
  },
  {
   "cell_type": "code",
   "execution_count": 3,
   "metadata": {},
   "outputs": [],
   "source": [
    "import os\n",
    "import pandas as pd\n",
    "\n",
    "result_dir = 'results'\n",
    "features = ['mel','mfcc']\n",
    "model_types = ['cnn','lstm']\n",
    "\n",
    "f1_scores = []\n",
    "labels = []\n",
    "for feature in features:\n",
    "    for model_type in model_types:\n",
    "        report_file = os.path.join(result_dir,feature+'_'+model_type+'_test.csv')\n",
    "        report = pd.read_csv(report_file,index_col=0)\n",
    "        f1_scores.append(report['f1-score']['macro avg'])\n",
    "        labels.append(feature+'_'+model_type)"
   ]
  },
  {
   "cell_type": "markdown",
   "metadata": {},
   "source": [
    "The performanace comparison across different models is shown below. It suggests that even though the models are quite simple, the performance is good enough. There seems to be only marginal performance difference among models. The performance can be improved further by exploring different architecture coupled with hyperparameter optimisation."
   ]
  },
  {
   "cell_type": "code",
   "execution_count": 4,
   "metadata": {},
   "outputs": [
    {
     "name": "stdout",
     "output_type": "stream",
     "text": [
      "Storing figure into a file: results\\model_comparison.png\n"
     ]
    },
    {
     "data": {
      "image/png": "[encoded data removed]",
      "text/plain": [
       "<Figure size 576x432 with 1 Axes>"
      ]
     },
     "metadata": {
      "needs_background": "light"
     },
     "output_type": "display_data"
    }
   ],
   "source": [
    "from plotting import plot_model_comparison\n",
    "\n",
    "fig, ax = plot_model_comparison(f1_scores,labels)\n",
    "# store the plot into .png file\n",
    "figure_file = os.path.join(result_dir,'model_comparison.png')\n",
    "print (\"Storing figure into a file: \"+figure_file)\n",
    "fig.savefig(figure_file, bbox_inches='tight')"
   ]
  },
  {
   "cell_type": "code",
   "execution_count": null,
   "metadata": {},
   "outputs": [],
   "source": []
  }
 ],
 "metadata": {
  "kernelspec": {
   "display_name": "Python 3",
   "language": "python",
   "name": "python3"
  },
  "language_info": {
   "codemirror_mode": {
    "name": "ipython",
    "version": 3
   },
   "file_extension": ".py",
   "mimetype": "text/x-python",
   "name": "python",
   "nbconvert_exporter": "python",
   "pygments_lexer": "ipython3",
   "version": "3.7.4"
  }
 },
 "nbformat": 4,
 "nbformat_minor": 2
}